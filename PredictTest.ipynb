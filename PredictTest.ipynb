{
  "nbformat": 4,
  "nbformat_minor": 0,
  "metadata": {
    "colab": {
      "provenance": [],
      "include_colab_link": true
    },
    "kernelspec": {
      "name": "python3",
      "display_name": "Python 3"
    },
    "language_info": {
      "name": "python"
    }
  },
  "cells": [
    {
      "cell_type": "markdown",
      "metadata": {
        "id": "view-in-github",
        "colab_type": "text"
      },
      "source": [
        "<a href=\"https://colab.research.google.com/github/Bloch-AI/BlochAI-PythonProgrammingforAI/blob/master/PredictTest.ipynb\" target=\"_parent\"><img src=\"https://colab.research.google.com/assets/colab-badge.svg\" alt=\"Open In Colab\"/></a>"
      ]
    },
    {
      "cell_type": "code",
      "source": [
        "from google.colab import files\n",
        "files.upload()   # This will open a file picker dialog"
      ],
      "metadata": {
        "colab": {
          "base_uri": "https://localhost:8080/",
          "height": 127
        },
        "id": "YJRZZaLqFtTN",
        "outputId": "6acac35e-fef7-4070-9c94-52ac83323876"
      },
      "execution_count": 5,
      "outputs": [
        {
          "output_type": "display_data",
          "data": {
            "text/plain": [
              "<IPython.core.display.HTML object>"
            ],
            "text/html": [
              "\n",
              "     <input type=\"file\" id=\"files-83deb8e7-d2dc-48af-944f-4be098d1d52e\" name=\"files[]\" multiple disabled\n",
              "        style=\"border:none\" />\n",
              "     <output id=\"result-83deb8e7-d2dc-48af-944f-4be098d1d52e\">\n",
              "      Upload widget is only available when the cell has been executed in the\n",
              "      current browser session. Please rerun this cell to enable.\n",
              "      </output>\n",
              "      <script>// Copyright 2017 Google LLC\n",
              "//\n",
              "// Licensed under the Apache License, Version 2.0 (the \"License\");\n",
              "// you may not use this file except in compliance with the License.\n",
              "// You may obtain a copy of the License at\n",
              "//\n",
              "//      http://www.apache.org/licenses/LICENSE-2.0\n",
              "//\n",
              "// Unless required by applicable law or agreed to in writing, software\n",
              "// distributed under the License is distributed on an \"AS IS\" BASIS,\n",
              "// WITHOUT WARRANTIES OR CONDITIONS OF ANY KIND, either express or implied.\n",
              "// See the License for the specific language governing permissions and\n",
              "// limitations under the License.\n",
              "\n",
              "/**\n",
              " * @fileoverview Helpers for google.colab Python module.\n",
              " */\n",
              "(function(scope) {\n",
              "function span(text, styleAttributes = {}) {\n",
              "  const element = document.createElement('span');\n",
              "  element.textContent = text;\n",
              "  for (const key of Object.keys(styleAttributes)) {\n",
              "    element.style[key] = styleAttributes[key];\n",
              "  }\n",
              "  return element;\n",
              "}\n",
              "\n",
              "// Max number of bytes which will be uploaded at a time.\n",
              "const MAX_PAYLOAD_SIZE = 100 * 1024;\n",
              "\n",
              "function _uploadFiles(inputId, outputId) {\n",
              "  const steps = uploadFilesStep(inputId, outputId);\n",
              "  const outputElement = document.getElementById(outputId);\n",
              "  // Cache steps on the outputElement to make it available for the next call\n",
              "  // to uploadFilesContinue from Python.\n",
              "  outputElement.steps = steps;\n",
              "\n",
              "  return _uploadFilesContinue(outputId);\n",
              "}\n",
              "\n",
              "// This is roughly an async generator (not supported in the browser yet),\n",
              "// where there are multiple asynchronous steps and the Python side is going\n",
              "// to poll for completion of each step.\n",
              "// This uses a Promise to block the python side on completion of each step,\n",
              "// then passes the result of the previous step as the input to the next step.\n",
              "function _uploadFilesContinue(outputId) {\n",
              "  const outputElement = document.getElementById(outputId);\n",
              "  const steps = outputElement.steps;\n",
              "\n",
              "  const next = steps.next(outputElement.lastPromiseValue);\n",
              "  return Promise.resolve(next.value.promise).then((value) => {\n",
              "    // Cache the last promise value to make it available to the next\n",
              "    // step of the generator.\n",
              "    outputElement.lastPromiseValue = value;\n",
              "    return next.value.response;\n",
              "  });\n",
              "}\n",
              "\n",
              "/**\n",
              " * Generator function which is called between each async step of the upload\n",
              " * process.\n",
              " * @param {string} inputId Element ID of the input file picker element.\n",
              " * @param {string} outputId Element ID of the output display.\n",
              " * @return {!Iterable<!Object>} Iterable of next steps.\n",
              " */\n",
              "function* uploadFilesStep(inputId, outputId) {\n",
              "  const inputElement = document.getElementById(inputId);\n",
              "  inputElement.disabled = false;\n",
              "\n",
              "  const outputElement = document.getElementById(outputId);\n",
              "  outputElement.innerHTML = '';\n",
              "\n",
              "  const pickedPromise = new Promise((resolve) => {\n",
              "    inputElement.addEventListener('change', (e) => {\n",
              "      resolve(e.target.files);\n",
              "    });\n",
              "  });\n",
              "\n",
              "  const cancel = document.createElement('button');\n",
              "  inputElement.parentElement.appendChild(cancel);\n",
              "  cancel.textContent = 'Cancel upload';\n",
              "  const cancelPromise = new Promise((resolve) => {\n",
              "    cancel.onclick = () => {\n",
              "      resolve(null);\n",
              "    };\n",
              "  });\n",
              "\n",
              "  // Wait for the user to pick the files.\n",
              "  const files = yield {\n",
              "    promise: Promise.race([pickedPromise, cancelPromise]),\n",
              "    response: {\n",
              "      action: 'starting',\n",
              "    }\n",
              "  };\n",
              "\n",
              "  cancel.remove();\n",
              "\n",
              "  // Disable the input element since further picks are not allowed.\n",
              "  inputElement.disabled = true;\n",
              "\n",
              "  if (!files) {\n",
              "    return {\n",
              "      response: {\n",
              "        action: 'complete',\n",
              "      }\n",
              "    };\n",
              "  }\n",
              "\n",
              "  for (const file of files) {\n",
              "    const li = document.createElement('li');\n",
              "    li.append(span(file.name, {fontWeight: 'bold'}));\n",
              "    li.append(span(\n",
              "        `(${file.type || 'n/a'}) - ${file.size} bytes, ` +\n",
              "        `last modified: ${\n",
              "            file.lastModifiedDate ? file.lastModifiedDate.toLocaleDateString() :\n",
              "                                    'n/a'} - `));\n",
              "    const percent = span('0% done');\n",
              "    li.appendChild(percent);\n",
              "\n",
              "    outputElement.appendChild(li);\n",
              "\n",
              "    const fileDataPromise = new Promise((resolve) => {\n",
              "      const reader = new FileReader();\n",
              "      reader.onload = (e) => {\n",
              "        resolve(e.target.result);\n",
              "      };\n",
              "      reader.readAsArrayBuffer(file);\n",
              "    });\n",
              "    // Wait for the data to be ready.\n",
              "    let fileData = yield {\n",
              "      promise: fileDataPromise,\n",
              "      response: {\n",
              "        action: 'continue',\n",
              "      }\n",
              "    };\n",
              "\n",
              "    // Use a chunked sending to avoid message size limits. See b/62115660.\n",
              "    let position = 0;\n",
              "    do {\n",
              "      const length = Math.min(fileData.byteLength - position, MAX_PAYLOAD_SIZE);\n",
              "      const chunk = new Uint8Array(fileData, position, length);\n",
              "      position += length;\n",
              "\n",
              "      const base64 = btoa(String.fromCharCode.apply(null, chunk));\n",
              "      yield {\n",
              "        response: {\n",
              "          action: 'append',\n",
              "          file: file.name,\n",
              "          data: base64,\n",
              "        },\n",
              "      };\n",
              "\n",
              "      let percentDone = fileData.byteLength === 0 ?\n",
              "          100 :\n",
              "          Math.round((position / fileData.byteLength) * 100);\n",
              "      percent.textContent = `${percentDone}% done`;\n",
              "\n",
              "    } while (position < fileData.byteLength);\n",
              "  }\n",
              "\n",
              "  // All done.\n",
              "  yield {\n",
              "    response: {\n",
              "      action: 'complete',\n",
              "    }\n",
              "  };\n",
              "}\n",
              "\n",
              "scope.google = scope.google || {};\n",
              "scope.google.colab = scope.google.colab || {};\n",
              "scope.google.colab._files = {\n",
              "  _uploadFiles,\n",
              "  _uploadFilesContinue,\n",
              "};\n",
              "})(self);\n",
              "</script> "
            ]
          },
          "metadata": {}
        },
        {
          "output_type": "stream",
          "name": "stdout",
          "text": [
            "Saving TestResults.csv to TestResults.csv\n"
          ]
        },
        {
          "output_type": "execute_result",
          "data": {
            "text/plain": [
              "{'TestResults.csv': b'\\xef\\xbb\\xbfPractice1,Practice2,FinalTest\\r\\n59,59,61\\r\\n64,79,77\\r\\n55,53,63\\r\\n54,65,66\\r\\n48,60,64\\r\\n67,75,86\\r\\n52,52,51\\r\\n80,82,88\\r\\n53,69,77\\r\\n52,60,68\\r\\n58,55,71\\r\\n44,43,57\\r\\n47,56,63\\r\\n59,74,84\\r\\n46,55,64\\r\\n75,91,95\\r\\n60,65,75\\r\\n54,60,57\\r\\n64,78,76\\r\\n50,51,52\\r\\n72,79,85\\r\\n68,71,71\\r\\n45,57,69\\r\\n53,65,62\\r\\n59,64,67\\r\\n64,67,72\\r\\n71,90,97\\r\\n58,64,64\\r\\n50,67,71\\r\\n58,64,60\\r\\n55,61,73\\r\\n53,64,66\\r\\n49,66,73\\r\\n56,58,62\\r\\n66,74,70\\r\\n53,51,57\\r\\n58,57,60\\r\\n58,63,69\\r\\n58,71,72\\r\\n32,49,60\\r\\n45,51,56\\r\\n43,52,54\\r\\n47,46,51\\r\\n61,62,69\\r\\n58,53,58\\r\\n50,47,52\\r\\n65,55,56\\r\\n37,50,54\\r\\n48,59,64\\r\\n68,65,76\\r\\n52,57,82\\r\\n54,66,73\\r\\n47,59,64\\r\\n39,45,55\\r\\n67,75,80\\r\\n60,66,74\\r\\n60,57,57\\r\\n61,63,63\\r\\n46,38,53\\r\\n57,53,56\\r\\n72,81,76\\r\\n56,68,77\\r\\n65,76,93\\r\\n47,56,68\\r\\n60,61,74\\r\\n47,55,65\\r\\n66,74,85\\r\\n59,63,70\\r\\n62,68,77\\r\\n59,59,66\\r\\n64,69,74\\r\\n60,73,78\\r\\n41,43,50\\r\\n67,79,74\\r\\n60,71,81\\r\\n68,73,77\\r\\n61,58,71\\r\\n47,55,63\\r\\n37,47,60\\r\\n54,50,52\\r\\n41,33,39\\r\\n54,59,56\\r\\n59,59,64\\r\\n59,64,55\\r\\n72,73,74\\r\\n73,90,90\\r\\n56,62,69\\r\\n46,58,67\\r\\n62,63,71\\r\\n40,55,56\\r\\n53,46,59\\r\\n62,63,76\\r\\n44,54,57\\r\\n60,66,74\\r\\n54,62,63\\r\\n58,72,78\\r\\n47,58,72\\r\\n46,59,65\\r\\n69,77,85\\r\\n55,63,68\\r\\n51,57,67\\r\\n37,47,50\\r\\n52,52,52\\r\\n44,54,54\\r\\n53,61,66\\r\\n45,59,72\\r\\n57,64,77\\r\\n56,74,82\\r\\n63,67,69\\r\\n41,43,47\\r\\n46,48,56\\r\\n74,84,92\\r\\n62,69,78\\r\\n56,65,70\\r\\n59,54,53\\r\\n40,35,41\\r\\n50,58,67\\r\\n57,55,55\\r\\n51,57,71\\r\\n61,64,76\\r\\n38,49,46\\r\\n58,54,68\\r\\n51,54,60\\r\\n76,77,87\\r\\n52,51,54\\r\\n50,65,80\\r\\n60,58,66\\r\\n49,54,72\\r\\n64,73,85\\r\\n51,64,71\\r\\n42,56,53\\r\\n42,42,45\\r\\n68,65,55\\r\\n56,58,51\\r\\n74,75,81\\r\\n53,58,65\\r\\n53,56,52\\r\\n49,60,64\\r\\n42,54,67\\r\\n60,69,83\\r\\n48,46,56\\r\\n65,68,76\\r\\n55,69,76\\r\\n73,82,94\\r\\n50,52,56\\r\\n56,65,72\\r\\n48,59,50\\r\\n58,72,71\\r\\n56,54,59\\r\\n46,54,53\\r\\n56,68,72\\r\\n45,47,56\\r\\n59,69,72\\r\\n62,65,76\\r\\n57,62,75\\r\\n48,55,54\\r\\n77,71,80\\r\\n63,66,66\\r\\n63,69,71\\r\\n56,62,62\\r\\n59,77,84\\r\\n46,52,49\\r\\n72,78,95\\r\\n56,62,62\\r\\n44,55,61\\r\\n51,59,57\\r\\n37,45,53\\r\\n77,72,88\\r\\n60,71,70\\r\\n43,45,53\\r\\n58,62,63\\r\\n61,68,73\\r\\n49,61,66\\r\\n70,78,86\\r\\n76,73,72\\r\\n50,58,63\\r\\n72,67,73\\r\\n56,67,67\\r\\n39,51,55\\r\\n65,80,81\\r\\n62,78,76\\r\\n82,82,95\\r\\n58,63,70\\r\\n68,68,69\\r\\n51,61,65\\r\\n71,73,78\\r\\n54,80,93\\r\\n61,77,82\\r\\n58,60,71\\r\\n61,66,71\\r\\n50,48,51\\r\\n73,80,86\\r\\n58,64,70\\r\\n49,48,57\\r\\n57,54,58\\r\\n55,56,73\\r\\n44,49,58\\r\\n71,87,84\\r\\n62,76,88\\r\\n56,56,61\\r\\n'}"
            ]
          },
          "metadata": {},
          "execution_count": 5
        }
      ]
    },
    {
      "cell_type": "code",
      "source": [
        "from sklearn import linear_model\n",
        "import numpy as np\n",
        "import pandas as pd\n",
        "\n",
        "\n",
        "\n",
        "import pickle\n",
        "\n",
        "#Read the data into a dataframe\n",
        "df = pd.read_csv(\"TestResults.csv\", encoding=\"utf-8\")\n",
        "\n",
        "#Use .loc method to set X to hold the data used to predict\n",
        "X = df.loc[:,[\"Practice1\", \"Practice2\"]]\n",
        "\n",
        "\n",
        "y = df[\"FinalTest\"]\n",
        "\n",
        "#Fit a linear regression model\n",
        "regr = linear_model.LinearRegression()\n",
        "regr.fit(X,y)\n",
        "\n",
        "#Save the model. \"wb\" strand for \"write binary\"\n",
        "pickle.dump(regr, open(\"model.pkl\", \"wb\"))\n",
        "\n",
        "\n",
        "#Make some sample test data\n",
        "data=[[55,67]]\n",
        "#testdata = pd.DataFrame (data, columns=[\"Practice1\",\"Practice2\"])\n",
        "\n",
        "#Predict and round results\n",
        "\n",
        "y_pred = np.ndarray.round(regr.predict(data))\n",
        "\n",
        "#Print result and round again to get rid of decimal point\n",
        "print(round(y_pred[0]))"
      ],
      "metadata": {
        "colab": {
          "base_uri": "https://localhost:8080/"
        },
        "id": "5ryLXw8-e0_W",
        "outputId": "fbe47b9d-c48a-422b-c894-d8d55363d770"
      },
      "execution_count": 6,
      "outputs": [
        {
          "output_type": "stream",
          "name": "stdout",
          "text": [
            "72\n"
          ]
        },
        {
          "output_type": "stream",
          "name": "stderr",
          "text": [
            "/usr/local/lib/python3.11/dist-packages/sklearn/utils/validation.py:2739: UserWarning: X does not have valid feature names, but LinearRegression was fitted with feature names\n",
            "  warnings.warn(\n"
          ]
        }
      ]
    }
  ]
}